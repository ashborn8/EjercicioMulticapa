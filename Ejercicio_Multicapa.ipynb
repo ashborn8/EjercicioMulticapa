{
  "nbformat": 4,
  "nbformat_minor": 0,
  "metadata": {
    "colab": {
      "provenance": [],
      "gpuType": "V28",
      "authorship_tag": "ABX9TyOnRFiTCYNmh0y3Az3giwmP",
      "include_colab_link": true
    },
    "kernelspec": {
      "name": "python3",
      "display_name": "Python 3"
    },
    "language_info": {
      "name": "python"
    },
    "accelerator": "TPU"
  },
  "cells": [
    {
      "cell_type": "markdown",
      "metadata": {
        "id": "view-in-github",
        "colab_type": "text"
      },
      "source": [
        "<a href=\"https://colab.research.google.com/github/ashborn8/EjercicioMulticapa/blob/main/Ejercicio_Multicapa.ipynb\" target=\"_parent\"><img src=\"https://colab.research.google.com/assets/colab-badge.svg\" alt=\"Open In Colab\"/></a>"
      ]
    },
    {
      "cell_type": "code",
      "execution_count": 16,
      "metadata": {
        "id": "ydkAnC1Umyb2"
      },
      "outputs": [],
      "source": [
        "# 1. Importar las bibliotecas necesarias\n",
        "import tensorflow as tf\n",
        "from tensorflow.keras import datasets, layers, models\n",
        "import matplotlib.pyplot as plt\n"
      ]
    },
    {
      "cell_type": "code",
      "source": [
        "# 2. Cargar y preprocesar el dataset CIFAR-10\n",
        "(x_train, y_train), (x_test, y_test) = datasets.cifar10.load_data()\n",
        "\n",
        "# Normalizar las imágenes a valores entre 0 y 1\n",
        "x_train, x_test = x_train / 255.0, x_test / 255.0\n"
      ],
      "metadata": {
        "id": "OwmMdgrum-Ne"
      },
      "execution_count": 17,
      "outputs": []
    },
    {
      "cell_type": "code",
      "source": [
        "# 3. Definir la arquitectura de la red neuronal convolucional (CNN)\n",
        "model = models.Sequential()\n",
        "\n",
        "# Primera capa convolucional\n",
        "model.add(layers.Conv2D(32, (3, 3), activation='relu', input_shape=(32, 32, 3)))\n",
        "\n",
        "# Segunda capa convolucional\n",
        "model.add(layers.Conv2D(64, (3, 3), activation='relu'))\n",
        "\n",
        "# Capa de pooling\n",
        "model.add(layers.MaxPooling2D((2, 2)))\n",
        "\n",
        "# Capa de aplanamiento\n",
        "model.add(layers.Flatten())\n",
        "\n",
        "# Capa densa completamente conectada con 64 neuronas\n",
        "model.add(layers.Dense(64, activation='relu'))\n",
        "\n",
        "# Capa de salida con 10 neuronas (una para cada clase de CIFAR-10)\n",
        "model.add(layers.Dense(10))\n"
      ],
      "metadata": {
        "id": "LQ4Q2r75nDbP"
      },
      "execution_count": 18,
      "outputs": []
    },
    {
      "cell_type": "code",
      "source": [
        "# 4. Compilar el modelo\n",
        "model.compile(optimizer='adam',\n",
        "              loss=tf.keras.losses.SparseCategoricalCrossentropy(from_logits=True),\n",
        "              metrics=['accuracy']) # Add 'accuracy' to the metrics list"
      ],
      "metadata": {
        "id": "ZzELBAQsp4yU"
      },
      "execution_count": 24,
      "outputs": []
    },
    {
      "cell_type": "code",
      "source": [
        "# 5. Entrenar el modelo\n",
        "history = model.fit(x_train, y_train, epochs=10,\n",
        "                    validation_data=(x_test, y_test))\n"
      ],
      "metadata": {
        "colab": {
          "base_uri": "https://localhost:8080/"
        },
        "id": "1oFUf7EvnJLr",
        "outputId": "94715384-175f-4ae8-8130-b92d0d041a4d"
      },
      "execution_count": 25,
      "outputs": [
        {
          "output_type": "stream",
          "name": "stdout",
          "text": [
            "Epoch 1/10\n",
            "1563/1563 [==============================] - 26s 16ms/step - loss: 1.3699 - accuracy: 0.5115 - val_loss: 1.1094 - val_accuracy: 0.6043\n",
            "Epoch 2/10\n",
            "1563/1563 [==============================] - 26s 16ms/step - loss: 0.9851 - accuracy: 0.6558 - val_loss: 0.9811 - val_accuracy: 0.6524\n",
            "Epoch 3/10\n",
            "1563/1563 [==============================] - 27s 17ms/step - loss: 0.8234 - accuracy: 0.7150 - val_loss: 0.9429 - val_accuracy: 0.6709\n",
            "Epoch 4/10\n",
            "1563/1563 [==============================] - 28s 18ms/step - loss: 0.7032 - accuracy: 0.7543 - val_loss: 0.9792 - val_accuracy: 0.6666\n",
            "Epoch 5/10\n",
            "1563/1563 [==============================] - 26s 17ms/step - loss: 0.5893 - accuracy: 0.7935 - val_loss: 0.9999 - val_accuracy: 0.6685\n",
            "Epoch 6/10\n",
            "1563/1563 [==============================] - 27s 17ms/step - loss: 0.4852 - accuracy: 0.8288 - val_loss: 1.1100 - val_accuracy: 0.6659\n",
            "Epoch 7/10\n",
            "1563/1563 [==============================] - 27s 17ms/step - loss: 0.3952 - accuracy: 0.8587 - val_loss: 1.1383 - val_accuracy: 0.6788\n",
            "Epoch 8/10\n",
            "1563/1563 [==============================] - 27s 18ms/step - loss: 0.3104 - accuracy: 0.8895 - val_loss: 1.2956 - val_accuracy: 0.6632\n",
            "Epoch 9/10\n",
            "1563/1563 [==============================] - 27s 17ms/step - loss: 0.2476 - accuracy: 0.9131 - val_loss: 1.5227 - val_accuracy: 0.6669\n",
            "Epoch 10/10\n",
            "1563/1563 [==============================] - 26s 17ms/step - loss: 0.1970 - accuracy: 0.9315 - val_loss: 1.6949 - val_accuracy: 0.6549\n"
          ]
        }
      ]
    },
    {
      "source": [
        "# 6. Evaluar el modelo\n",
        "test_loss = model.evaluate(x_test, y_test, verbose=2) # Get the loss value\n",
        "\n",
        "# Get accuracy by predicting on test set and comparing with true labels\n",
        "import numpy as np\n",
        "y_pred = model.predict(x_test)\n",
        "y_pred_classes = np.argmax(y_pred, axis=1)\n",
        "test_acc = np.mean(y_pred_classes == y_test[:, 0]) # Compare predictions with true labels\n",
        "\n",
        "print(f'Precisión en el conjunto de prueba: {test_acc}')"
      ],
      "cell_type": "code",
      "metadata": {
        "colab": {
          "base_uri": "https://localhost:8080/"
        },
        "id": "ieQJ51lLpHtt",
        "outputId": "90f4f11d-6c08-4db6-da5f-e34c617afac3"
      },
      "execution_count": 26,
      "outputs": [
        {
          "output_type": "stream",
          "name": "stdout",
          "text": [
            "313/313 - 2s - loss: 1.6949 - accuracy: 0.6549 - 2s/epoch - 6ms/step\n",
            "313/313 [==============================] - 2s 6ms/step\n",
            "Precisión en el conjunto de prueba: 0.6549\n"
          ]
        }
      ]
    },
    {
      "cell_type": "code",
      "source": [
        "# 7. Graficar el historial de precisión y pérdida\n",
        "plt.plot(history.history['accuracy'], label='Precisión entrenamiento')\n",
        "plt.plot(history.history['val_accuracy'], label = 'Precisión validación')\n",
        "plt.xlabel('Épocas')\n",
        "plt.ylabel('Precisión')\n",
        "plt.ylim([0, 1])\n",
        "plt.legend(loc='lower right')\n",
        "plt.show()\n"
      ],
      "metadata": {
        "colab": {
          "base_uri": "https://localhost:8080/",
          "height": 457
        },
        "id": "u6VmbAvRnSZx",
        "outputId": "ec3cdffc-5091-432d-a41d-f3f20bb60978"
      },
      "execution_count": 27,
      "outputs": [
        {
          "output_type": "display_data",
          "data": {
            "text/plain": [
              "<Figure size 640x480 with 1 Axes>"
            ],
            "image/png": "[encoded data removed]"
          },
          "metadata": {}
        }
      ]
    }
  ]
}